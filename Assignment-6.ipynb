{
 "cells": [
  {
   "cell_type": "markdown",
   "metadata": {},
   "source": [
    "### Question"
   ]
  },
  {
   "cell_type": "code",
   "execution_count": 1,
   "metadata": {},
   "outputs": [],
   "source": [
    "import random\n",
    "lives = 9\n",
    "heart_symbol = '\\u2764'\n",
    "words = [\"hello\",\"pizza\",\"apple\",\"fairy\",\"teeth\"]\n",
    "secret_word = random.choice(words)\n",
    "clue = list('?????')\n",
    "guess_word_correctly = False"
   ]
  },
  {
   "cell_type": "code",
   "execution_count": 2,
   "metadata": {},
   "outputs": [],
   "source": [
    "def update_clue(guess_letter,secret_word,clue):\n",
    "    index = 0\n",
    "    while index < len(secret_word):\n",
    "        if guess_letter == secret_word[index]:\n",
    "            clue[index] = guess_letter\n",
    "            index += 1"
   ]
  },
  {
   "cell_type": "code",
   "execution_count": null,
   "metadata": {},
   "outputs": [
    {
     "name": "stdout",
     "output_type": "stream",
     "text": [
      "['?', '?', '?', '?', '?']\n",
      "lives left: ❤❤❤❤❤❤❤❤❤\n",
      "guess a letter or whole wordh\n",
      "incorrect guess.you loose a life\n",
      "['?', '?', '?', '?', '?']\n",
      "lives left: ❤❤❤❤❤❤❤❤❤\n",
      "guess a letter or whole worda\n"
     ]
    }
   ],
   "source": [
    "while lives > 0:\n",
    "    print(clue)\n",
    "    print(\"lives left:\",heart_symbol*lives)\n",
    "    guess = input(\"guess a letter or whole word\")\n",
    "    if guess == secret_word:\n",
    "        guess_word_correctly = True\n",
    "        break\n",
    "    elif guess in secret_word:\n",
    "        update_clue(guess,secret_word,clue)\n",
    "    else:\n",
    "        print(\"incorrect guess.you loose a life\")\n",
    "if guess_word_correctly:\n",
    "    print(\"you won the game,secret_word is\",secret_word)\n",
    "else:\n",
    "    print(\"you lost the game,secret_word is\",secret_word)"
   ]
  },
  {
   "cell_type": "code",
   "execution_count": null,
   "metadata": {},
   "outputs": [],
   "source": []
  },
  {
   "cell_type": "code",
   "execution_count": null,
   "metadata": {},
   "outputs": [],
   "source": []
  },
  {
   "cell_type": "code",
   "execution_count": null,
   "metadata": {},
   "outputs": [],
   "source": []
  }
 ],
 "metadata": {
  "kernelspec": {
   "display_name": "Python 3",
   "language": "python",
   "name": "python3"
  },
  "language_info": {
   "codemirror_mode": {
    "name": "ipython",
    "version": 3
   },
   "file_extension": ".py",
   "mimetype": "text/x-python",
   "name": "python",
   "nbconvert_exporter": "python",
   "pygments_lexer": "ipython3",
   "version": "3.7.6"
  }
 },
 "nbformat": 4,
 "nbformat_minor": 4
}
